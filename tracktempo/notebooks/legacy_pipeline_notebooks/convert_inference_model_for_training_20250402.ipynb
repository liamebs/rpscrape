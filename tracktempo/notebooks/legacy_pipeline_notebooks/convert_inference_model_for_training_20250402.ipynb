{
 "cells": [
  {
   "cell_type": "raw",
   "id": "10e57038-e2b6-4ca0-a1cc-eb862824874d",
   "metadata": {},
   "source": [
    "THIS SCRIPT ATTEMPTS TO MATCH THE INFERENCE-READY DATASET WITH RESULTS DATA TO PRODUCE A TRAINING DATASET WITH RESULTS"
   ]
  },
  {
   "cell_type": "raw",
   "id": "96fadddc-8843-44bb-8ea2-a519648f1881",
   "metadata": {},
   "source": [
    "At present, we are trying to match as much as possible.  We are scraping results that match the dates of the inference dataset, plusthe day before and the day after in case worldwide races are put in the previous/following days.\n",
    "\n",
    "The merge-critical columns are formatted differently, so some conversion is necessary to match these columns in the datasets and facilitate the merge."
   ]
  },
  {
   "cell_type": "code",
   "execution_count": 1,
   "id": "70a2c72d-4ffd-42f1-b8cd-7fc843d889cc",
   "metadata": {},
   "outputs": [
    {
     "name": "stdout",
     "output_type": "stream",
     "text": [
      "✅ Final merged dataset saved to data/processed/2025/03/model_ready_train.pkl\n",
      "📊 Exact matches: 2128 | Fuzzy matches: 0 | Total: 2350\n",
      "❗ Still unmatched: 222 saved to data/processed/unmatched.csv\n",
      "❗ Missing race results saved to data/processed/missing_races.csv\n"
     ]
    }
   ],
   "source": [
    "# Load inference model (model without results), results data.  Save merge.\n",
    "from utils.training.merge_inference_and_results import merge_inference_and_results\n",
    "\n",
    "merge_inference_and_results(\n",
    "    infer_path=\"data/processed/2025/03/model_ready_infer_march-2025.pkl\",\n",
    "    results_path=\"data/raw/2025_03_25-2025_04_01.csv\",\n",
    "    output_path=\"data/processed/2025/03/model_ready_train.pkl\",\n",
    "    unmatched_csv_path=\"data/processed/unmatched.csv\",\n",
    "    missing_races_csv_path=\"data/processed/missing_races.csv\",\n",
    "    enable_place_flag=False  # Toggle ON if place logic is later implemented\n",
    ")\n"
   ]
  },
  {
   "cell_type": "code",
   "execution_count": 2,
   "id": "7974e44d-058a-4539-a071-3271e6b89034",
   "metadata": {},
   "outputs": [],
   "source": [
    "# Load merged file\n",
    "import pandas as pd\n",
    "df = pd.read_pickle('data/processed/2025/03/model_ready_train.pkl')"
   ]
  },
  {
   "cell_type": "code",
   "execution_count": 3,
   "id": "c2ee1e6d-c0ef-4dcf-908c-4ce3a395f30a",
   "metadata": {},
   "outputs": [],
   "source": [
    "# 🧹 Remove rows with missing position (incomplete targets)\n",
    "df_train = df[df[\"position\"].notna()].copy()"
   ]
  },
  {
   "cell_type": "code",
   "execution_count": 4,
   "id": "23fa9a98-a59d-4116-85fb-a5e9e749804a",
   "metadata": {},
   "outputs": [],
   "source": [
    "# 🎯 Create binary classification label\n",
    "df_train[\"winner_flag\"] = (df_train[\"position\"] == 1).astype(int)"
   ]
  },
  {
   "cell_type": "code",
   "execution_count": 5,
   "id": "da1edf9d-e4e1-456e-98f9-23647f784c71",
   "metadata": {},
   "outputs": [
    {
     "name": "stdout",
     "output_type": "stream",
     "text": [
      "✅ Training rows: 2024\n"
     ]
    }
   ],
   "source": [
    "print(f\"✅ Training rows: {len(df_train)}\")"
   ]
  },
  {
   "cell_type": "code",
   "execution_count": 6,
   "id": "5ee6a479-b558-4699-b7e9-e93ef36832b0",
   "metadata": {},
   "outputs": [],
   "source": [
    "df_train.to_pickle('data/processed/2025/03/model_ready_train.pkl')"
   ]
  },
  {
   "cell_type": "code",
   "execution_count": null,
   "id": "58f4cf49-8a65-41e7-b498-e4e581519232",
   "metadata": {},
   "outputs": [],
   "source": []
  }
 ],
 "metadata": {
  "kernelspec": {
   "display_name": "Python (sports)",
   "language": "python",
   "name": "sports"
  },
  "language_info": {
   "codemirror_mode": {
    "name": "ipython",
    "version": 3
   },
   "file_extension": ".py",
   "mimetype": "text/x-python",
   "name": "python",
   "nbconvert_exporter": "python",
   "pygments_lexer": "ipython3",
   "version": "3.11.2"
  }
 },
 "nbformat": 4,
 "nbformat_minor": 5
}
