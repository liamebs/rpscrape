{
 "cells": [
  {
   "cell_type": "code",
   "execution_count": 1,
   "id": "7c0bf620-eeff-46eb-a436-990153c954a3",
   "metadata": {},
   "outputs": [
    {
     "name": "stdout",
     "output_type": "stream",
     "text": [
      "✅ Seed set: 42\n"
     ]
    }
   ],
   "source": [
    "from utils.testing.seed_everything import set_seed\n",
    "set_seed(42)"
   ]
  },
  {
   "cell_type": "code",
   "execution_count": 2,
   "id": "b3ea0b2c-969a-4083-a861-22caec2f27d1",
   "metadata": {},
   "outputs": [],
   "source": [
    "import pandas as pd\n",
    "import torch\n",
    "from utils.batching.batch_races import batch_races\n",
    "from modeling.inputs_config import FLOAT_FEATURES, IDX_FEATURES, NLP_VECTOR_SIZE\n",
    "from modeling.transformer_model import RaceTransformer"
   ]
  },
  {
   "cell_type": "code",
   "execution_count": 3,
   "id": "8e3bcc60-8504-48aa-bdb5-f371ff0253d7",
   "metadata": {},
   "outputs": [],
   "source": [
    "# ✅ Load model-ready data\n",
    "df = pd.read_pickle(\"data/processed/2025/03/model_ready_march-2025.pkl\")"
   ]
  },
  {
   "cell_type": "code",
   "execution_count": 4,
   "id": "6039db65-4d16-497b-9d64-66bf01283532",
   "metadata": {
    "scrolled": true
   },
   "outputs": [
    {
     "name": "stdout",
     "output_type": "stream",
     "text": [
      "🎯 Trial race_id: 891228\n",
      "✅ Cleaned trial race shape: (11, 102)\n"
     ]
    }
   ],
   "source": [
    "# 🧪 Setup: Isolate a clean trial race for forward pass.\n",
    "\n",
    "# This code helper ensures:\n",
    "# - The data feed isn't corrupted.\n",
    "# - The trial race is consistently scoped.\n",
    "# - We know the input tensor shape is as we intended.\n",
    "\n",
    "from utils.testing.testing_utils import get_clean_trial_race\n",
    "\n",
    "df = pd.read_pickle(\"data/processed/2025/03/model_ready_march-2025.pkl\")\n",
    "trial_df = get_clean_trial_race(df)\n"
   ]
  },
  {
   "cell_type": "code",
   "execution_count": 5,
   "id": "afe95e1f-33e0-4ff6-a818-b7859eeb0521",
   "metadata": {},
   "outputs": [],
   "source": [
    "# ✅ Set up NLP columns\n",
    "NLP_COLS = [\"comment_vector\", \"spotlight_vector\"]"
   ]
  },
  {
   "cell_type": "code",
   "execution_count": 6,
   "id": "71691432-9f02-4f86-9a6d-7ba7129bef20",
   "metadata": {},
   "outputs": [],
   "source": [
    "# ✅ Run batching (just one batch, for test)\n",
    "batches = batch_races(\n",
    "    trial_df,\n",
    "    float_cols=FLOAT_FEATURES,\n",
    "    idx_cols=IDX_FEATURES,\n",
    "    nlp_cols=NLP_COLS,\n",
    "    batch_size=1,       # only one race for demo\n",
    "    max_runners=None,   # dynamic padding\n",
    "    shuffle=False\n",
    ")\n",
    "batch = batches[0]"
   ]
  },
  {
   "cell_type": "code",
   "execution_count": 7,
   "id": "8701ac65-3287-4cb6-a62c-f4e064a04eef",
   "metadata": {},
   "outputs": [],
   "source": [
    "# ✅ Extract dimensions for model instantiation\n",
    "float_dim = len(FLOAT_FEATURES)\n",
    "idx_vocab_sizes = [df[col].max() + 1 for col in IDX_FEATURES]  # assuming 0-indexed\n",
    "nlp_dim = NLP_VECTOR_SIZE"
   ]
  },
  {
   "cell_type": "code",
   "execution_count": 8,
   "id": "ccee8be8-130e-49a2-aeb2-f066aeca32ee",
   "metadata": {},
   "outputs": [],
   "source": [
    "# ✅ Convert batch to PyTorch tensors\n",
    "float_feats = torch.tensor(batch[\"float_features\"], dtype=torch.float32)\n",
    "idx_feats = torch.tensor(batch[\"embedding_indices\"], dtype=torch.long)\n",
    "comment_vecs = torch.tensor(batch[\"comment_vector\"], dtype=torch.float32)\n",
    "spotlight_vecs = torch.tensor(batch[\"spotlight_vector\"], dtype=torch.float32)\n",
    "mask = torch.tensor(batch[\"mask\"], dtype=torch.float32)"
   ]
  },
  {
   "cell_type": "code",
   "execution_count": 9,
   "id": "57058916-edd9-4a40-9dc9-434053f660f0",
   "metadata": {},
   "outputs": [],
   "source": [
    "# ✅ Instantiate model\n",
    "model = RaceTransformer(\n",
    "    idx_vocab_sizes=idx_vocab_sizes,\n",
    "    float_dim=float_dim,\n",
    "    nlp_dim=nlp_dim\n",
    ")"
   ]
  },
  {
   "cell_type": "code",
   "execution_count": 10,
   "id": "3eb0373f-0a78-4b17-a103-8a76e56b8b63",
   "metadata": {},
   "outputs": [
    {
     "name": "stdout",
     "output_type": "stream",
     "text": [
      "✅ Output shape: torch.Size([1, 11])\n",
      "🔢 Sample output: tensor([0.5401, 0.5755, 0.6598, 0.7424, 0.5578, 0.5471, 0.5668, 0.5722, 0.4755,\n",
      "        0.5619, 0.5415])\n"
     ]
    },
    {
     "name": "stderr",
     "output_type": "stream",
     "text": [
      "/home/liamebs/myenvs/venv-horse-racing/lib/python3.11/site-packages/torch/nn/modules/transformer.py:508: UserWarning: The PyTorch API of nested tensors is in prototype stage and will change in the near future. We recommend specifying layout=torch.jagged when constructing a nested tensor, as this layout receives active development, has better operator coverage, and works with torch.compile. (Triggered internally at /pytorch/aten/src/ATen/NestedTensorImpl.cpp:178.)\n",
      "  output = torch._nested_tensor_from_mask(\n"
     ]
    }
   ],
   "source": [
    "# ✅ Run forward pass\n",
    "model.eval()\n",
    "with torch.no_grad():\n",
    "    out = model(float_feats, idx_feats, comment_vecs, spotlight_vecs, mask)\n",
    "\n",
    "print(\"✅ Output shape:\", out.shape)  # (B, R)\n",
    "print(\"🔢 Sample output:\", out[0])"
   ]
  },
  {
   "cell_type": "code",
   "execution_count": null,
   "id": "49c29ef0-bdd9-4a57-bd01-7e200364a3a9",
   "metadata": {},
   "outputs": [],
   "source": [
    "🔢 Sample output: tensor([0.5401, 0.5755, 0.6598, 0.7424, 0.5578, 0.5471, 0.5668, 0.5722, 0.4755,\n",
    "        0.5619, 0.5415])"
   ]
  },
  {
   "cell_type": "code",
   "execution_count": null,
   "id": "71ee670d-2cc9-4d32-89bf-bbfedeeabdbc",
   "metadata": {},
   "outputs": [],
   "source": []
  },
  {
   "cell_type": "code",
   "execution_count": null,
   "id": "04bafe38-f1e4-4360-963e-fa7a699d6bdf",
   "metadata": {},
   "outputs": [],
   "source": []
  },
  {
   "cell_type": "code",
   "execution_count": 20,
   "id": "cbb9dca5-09be-4542-8581-551fc20181a8",
   "metadata": {},
   "outputs": [
    {
     "name": "stdout",
     "output_type": "stream",
     "text": [
      "🎯 Trial race_id: 891228\n",
      "🏇 Runners in race (after non-runner filter): 11\n"
     ]
    }
   ],
   "source": [
    "race_id = df[\"race_id\"].unique()[0]\n",
    "print(\"🎯 Trial race_id:\", race_id)\n",
    "\n",
    "race_df = df[df[\"race_id\"] == race_id]\n",
    "print(\"🏇 Runners in race (after non-runner filter):\", race_df.shape[0])\n"
   ]
  },
  {
   "cell_type": "code",
   "execution_count": null,
   "id": "67e4e97f-d59d-4e1d-b9be-5bd962d10a5c",
   "metadata": {},
   "outputs": [],
   "source": []
  },
  {
   "cell_type": "code",
   "execution_count": null,
   "id": "65aa7bfb-b8c9-4c68-8a94-5a94b17fd6f5",
   "metadata": {},
   "outputs": [],
   "source": []
  },
  {
   "cell_type": "code",
   "execution_count": 21,
   "id": "e4290b8d-8323-4c08-be4a-30213f655852",
   "metadata": {},
   "outputs": [
    {
     "name": "stdout",
     "output_type": "stream",
     "text": [
      "❓ NaNs in float_feats: 0\n"
     ]
    }
   ],
   "source": [
    "# Validate no 'Nan's in the dataset.\n",
    "import pandas as pd\n",
    "import torch\n",
    "from utils.batching.batch_races import batch_races\n",
    "from modeling.inputs_config import FLOAT_FEATURES, IDX_FEATURES, NLP_VECTOR_SIZE\n",
    "\n",
    "# Set up schema\n",
    "NLP_COLS = [\"comment_vector\", \"spotlight_vector\"]\n",
    "\n",
    "# ✅ Load post-fix model-ready dataset\n",
    "df = pd.read_pickle(\"data/processed/2025/03/model_ready_march-2025.pkl\")\n",
    "\n",
    "# ✅ Run batching (just 1 race)\n",
    "batch = batch_races(\n",
    "    df,\n",
    "    float_cols=FLOAT_FEATURES,\n",
    "    idx_cols=IDX_FEATURES,\n",
    "    nlp_cols=NLP_COLS,\n",
    "    batch_size=1,\n",
    "    max_runners=None,\n",
    "    shuffle=False\n",
    ")[0]\n",
    "\n",
    "# ✅ Check for NaNs in float features\n",
    "float_feats_new = torch.tensor(batch[\"float_features\"], dtype=torch.float32)\n",
    "print(\"❓ NaNs in float_feats:\", float_feats_new.isnan().sum().item())\n"
   ]
  },
  {
   "cell_type": "code",
   "execution_count": null,
   "id": "61c88968-12c4-4875-9266-747e8837d590",
   "metadata": {},
   "outputs": [],
   "source": []
  },
  {
   "cell_type": "code",
   "execution_count": null,
   "id": "d32f4d0f-59dc-4549-aeab-69913a300c78",
   "metadata": {},
   "outputs": [],
   "source": []
  },
  {
   "cell_type": "code",
   "execution_count": null,
   "id": "d230f7bc-a1d3-4be7-b906-c8e28dc883dd",
   "metadata": {},
   "outputs": [],
   "source": []
  }
 ],
 "metadata": {
  "kernelspec": {
   "display_name": "Python (sports)",
   "language": "python",
   "name": "sports"
  },
  "language_info": {
   "codemirror_mode": {
    "name": "ipython",
    "version": 3
   },
   "file_extension": ".py",
   "mimetype": "text/x-python",
   "name": "python",
   "nbconvert_exporter": "python",
   "pygments_lexer": "ipython3",
   "version": "3.11.2"
  }
 },
 "nbformat": 4,
 "nbformat_minor": 5
}
