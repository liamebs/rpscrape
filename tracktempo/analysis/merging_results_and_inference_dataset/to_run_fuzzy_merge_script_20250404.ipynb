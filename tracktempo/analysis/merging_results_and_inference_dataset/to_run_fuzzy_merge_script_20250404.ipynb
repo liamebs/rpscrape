{
 "cells": [
  {
   "cell_type": "code",
   "execution_count": 2,
   "id": "16794de1-b356-48d0-bc28-1fd3a6cf09e1",
   "metadata": {},
   "outputs": [
    {
     "name": "stdout",
     "output_type": "stream",
     "text": [
      "Traceback (most recent call last):\n",
      "  File \"/home/liamebs/my_python_files/horses/rpscrape/tracktempo/analysis/merging_results_and_inference_dataset/fuzzy_merge_inference_and_results.py\", line 5, in <module>\n",
      "    from utils.training.merge_inference_and_results import normalize_course, strip_suffix\n",
      "ModuleNotFoundError: No module named 'utils'\n"
     ]
    }
   ],
   "source": [
    "!python fuzzy_merge_inference_and_results.py"
   ]
  },
  {
   "cell_type": "code",
   "execution_count": null,
   "id": "c7b9e57b-a35e-4618-8b36-ca309e879f30",
   "metadata": {},
   "outputs": [],
   "source": []
  }
 ],
 "metadata": {
  "kernelspec": {
   "display_name": "Python (sports)",
   "language": "python",
   "name": "sports"
  },
  "language_info": {
   "codemirror_mode": {
    "name": "ipython",
    "version": 3
   },
   "file_extension": ".py",
   "mimetype": "text/x-python",
   "name": "python",
   "nbconvert_exporter": "python",
   "pygments_lexer": "ipython3",
   "version": "3.11.2"
  }
 },
 "nbformat": 4,
 "nbformat_minor": 5
}
