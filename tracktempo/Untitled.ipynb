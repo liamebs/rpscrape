{
 "cells": [
  {
   "cell_type": "code",
   "execution_count": 2,
   "id": "653169a6-43d8-4511-badf-119775f9fcf2",
   "metadata": {},
   "outputs": [
    {
     "name": "stdout",
     "output_type": "stream",
     "text": [
      "✅ Created audit zip: data/audits/audit_20250405_0425.zip\n"
     ]
    }
   ],
   "source": [
    "from utils.audits.create_audit_zip_20250405 import create_audit_zip"
   ]
  },
  {
   "cell_type": "code",
   "execution_count": null,
   "id": "401ef88d-3969-4757-b5f9-9abc03c8809b",
   "metadata": {},
   "outputs": [],
   "source": []
  }
 ],
 "metadata": {
  "kernelspec": {
   "display_name": "Python (sports)",
   "language": "python",
   "name": "sports"
  },
  "language_info": {
   "codemirror_mode": {
    "name": "ipython",
    "version": 3
   },
   "file_extension": ".py",
   "mimetype": "text/x-python",
   "name": "python",
   "nbconvert_exporter": "python",
   "pygments_lexer": "ipython3",
   "version": "3.11.2"
  }
 },
 "nbformat": 4,
 "nbformat_minor": 5
}
