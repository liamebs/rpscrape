{
 "cells": [
  {
   "cell_type": "code",
   "execution_count": 2,
   "id": "b03166f9-bfb6-43fe-b90c-44b0b6295b6c",
   "metadata": {},
   "outputs": [
    {
     "name": "stdout",
     "output_type": "stream",
     "text": [
      "[✓] Saved float_cols to: data/processed/float_feature_list_2025-04-08T21-29.joblib\n"
     ]
    }
   ],
   "source": [
    "import pandas as pd\n",
    "import joblib\n",
    "from pathlib import Path\n",
    "from datetime import datetime\n",
    "\n",
    "# Load the original training dataset\n",
    "train_data_path = \"data/processed/model_ready_train_2025-04-06T04-16.pkl\"\n",
    "df = pd.read_pickle(train_data_path)\n",
    "\n",
    "# Derive float feature columns\n",
    "float_cols = [\n",
    "    col for col in df.columns\n",
    "    if \"_zscore\" in col or \"_rank\" in col or col.startswith(\"mentions_\")\n",
    "]\n",
    "\n",
    "# Save the list with a timestamp\n",
    "timestamp = datetime.now().strftime(\"%Y-%m-%dT%H-%M\")\n",
    "out_path = Path(f\"data/processed/float_feature_list_{timestamp}.joblib\")\n",
    "joblib.dump(float_cols, out_path)\n",
    "\n",
    "print(f\"[\\u2713] Saved float_cols to: {out_path}\")"
   ]
  },
  {
   "cell_type": "code",
   "execution_count": 3,
   "id": "a20eedf5-c214-4305-89d0-ed941c7f920b",
   "metadata": {},
   "outputs": [
    {
     "name": "stdout",
     "output_type": "stream",
     "text": [
      "race_id\n",
      "885406    34\n",
      "892225    24\n",
      "892226    23\n",
      "889472    22\n",
      "892222    20\n",
      "889473    20\n",
      "889470    16\n",
      "892065    16\n",
      "889323    16\n",
      "892146    16\n",
      "Name: count, dtype: int64\n"
     ]
    }
   ],
   "source": [
    "df = pd.read_pickle(\"data/processed/inference_dataset_2025-04-08T21-22.pkl\")\n",
    "print(df[\"race_id\"].value_counts().head(10))  # Look for suspiciously high counts"
   ]
  },
  {
   "cell_type": "code",
   "execution_count": null,
   "id": "de4ce3cc-fd9a-4a21-98a5-308481048be9",
   "metadata": {},
   "outputs": [],
   "source": []
  }
 ],
 "metadata": {
  "kernelspec": {
   "display_name": "Python (sports)",
   "language": "python",
   "name": "sports"
  },
  "language_info": {
   "codemirror_mode": {
    "name": "ipython",
    "version": 3
   },
   "file_extension": ".py",
   "mimetype": "text/x-python",
   "name": "python",
   "nbconvert_exporter": "python",
   "pygments_lexer": "ipython3",
   "version": "3.11.2"
  }
 },
 "nbformat": 4,
 "nbformat_minor": 5
}
