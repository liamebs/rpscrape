{
 "cells": [
  {
   "cell_type": "code",
   "execution_count": 2,
   "id": "32699d3b-57db-4292-890b-50c78f1c0feb",
   "metadata": {},
   "outputs": [
    {
     "data": {
      "text/plain": [
       "'/mnt/data/tracktempo-ai'"
      ]
     },
     "execution_count": 2,
     "metadata": {},
     "output_type": "execute_result"
    }
   ],
   "source": [
    "import os\n",
    "\n",
    "# Base directory for creating the structure\n",
    "\n",
    "\n",
    "# Folder structure definition (no files yet)\n",
    "folders = [\n",
    "    \"data/raw\",\n",
    "    \"data/processed\",\n",
    "    \"data/master\",\n",
    "    \"features\",\n",
    "    \"modeling\",\n",
    "    \"notebooks\",\n",
    "    \"logs\",\n",
    "    \"utils\",\n",
    "    \"scripts\",\n",
    "    \"branding\"\n",
    "]\n",
    "\n",
    "# Create folders without adding files\n",
    "for folder in folders:\n",
    "    os.makedirs(os.path.join(folder), exist_ok=True)\n",
    "\n",
    "# Output the path to the created root\n",
    "base_dir\n"
   ]
  },
  {
   "cell_type": "code",
   "execution_count": null,
   "id": "56cc4051-925b-4498-acb7-df6161d98b76",
   "metadata": {},
   "outputs": [],
   "source": []
  }
 ],
 "metadata": {
  "kernelspec": {
   "display_name": "Python (sports)",
   "language": "python",
   "name": "sports"
  },
  "language_info": {
   "codemirror_mode": {
    "name": "ipython",
    "version": 3
   },
   "file_extension": ".py",
   "mimetype": "text/x-python",
   "name": "python",
   "nbconvert_exporter": "python",
   "pygments_lexer": "ipython3",
   "version": "3.11.2"
  }
 },
 "nbformat": 4,
 "nbformat_minor": 5
}
