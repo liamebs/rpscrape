{
 "cells": [
  {
   "cell_type": "code",
   "execution_count": 3,
   "id": "8c24e2ef-e4be-4f98-93a6-3e706a794cf9",
   "metadata": {},
   "outputs": [
    {
     "data": {
      "text/plain": [
       "PosixPath('/mnt/data/file_structure_2025-04-02T06-50.yaml')"
      ]
     },
     "execution_count": 3,
     "metadata": {},
     "output_type": "execute_result"
    }
   ],
   "source": [
    "# Re-import missing dependency and re-run YAML export\n",
    "import os\n",
    "import yaml\n",
    "\n",
    "from datetime import datetime\n",
    "from pathlib import Path\n",
    "\n",
    "# Build the directory tree recursively\n",
    "def build_tree(path):\n",
    "    tree = {}\n",
    "    for entry in sorted(os.listdir(path)):\n",
    "        full_path = os.path.join(path, entry)\n",
    "        if os.path.isdir(full_path):\n",
    "            tree[entry] = build_tree(full_path)\n",
    "        else:\n",
    "            tree[entry] = None\n",
    "    return tree\n",
    "\n",
    "# Set root and generate timestamp\n",
    "root_dir = \".\"\n",
    "tree_dict = build_tree(root_dir)\n",
    "\n",
    "timestamp = datetime.now().strftime(\"%Y-%m-%dT%H-%M\")\n",
    "yaml_filename = f\"file_structure_{timestamp}.yaml\"\n",
    "#yaml_path = Path(\"/mnt/data\") / yaml_filename\n",
    "\n",
    "# Save the file\n",
    "with open(yaml_filename, \"w\") as f:\n",
    "    yaml.dump(tree_dict, f, sort_keys=False)\n",
    "\n",
    "yaml_path\n"
   ]
  },
  {
   "cell_type": "code",
   "execution_count": null,
   "id": "392b0761-34ca-47b6-82f2-fd213124a99e",
   "metadata": {},
   "outputs": [],
   "source": []
  }
 ],
 "metadata": {
  "kernelspec": {
   "display_name": "Python (sports)",
   "language": "python",
   "name": "sports"
  },
  "language_info": {
   "codemirror_mode": {
    "name": "ipython",
    "version": 3
   },
   "file_extension": ".py",
   "mimetype": "text/x-python",
   "name": "python",
   "nbconvert_exporter": "python",
   "pygments_lexer": "ipython3",
   "version": "3.11.2"
  }
 },
 "nbformat": 4,
 "nbformat_minor": 5
}
